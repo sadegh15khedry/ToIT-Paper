{
 "cells": [
  {
   "cell_type": "code",
   "execution_count": 1,
   "metadata": {},
<<<<<<< HEAD
   "outputs": [],
   "source": [
    "import sys\n",
    "import os\n",
    "\n",
    "sys.path.append('../src/scripts')\n",
    "from sumo_extraction import extract_location_direction_speed"
   ]
  },
  {
   "cell_type": "code",
   "execution_count": 2,
   "metadata": {},
   "outputs": [],
   "source": [
    "xml_file_path = '../src/sumo/xml/hello_fcd.xml'\n",
    "save_path = '../src/sumo/csv/hello.csv'"
   ]
  },
  {
   "cell_type": "code",
   "execution_count": 3,
   "metadata": {},
=======
>>>>>>> 985b80598b4f3444f96f27c9ec93edd1c4d33b12
   "outputs": [
    {
     "name": "stdout",
     "output_type": "stream",
     "text": [
      "   time  vehicle_id  speed  angle     x     y\n",
<<<<<<< HEAD
      "0     0           1    0.0   90.0   5.1 -1.65\n",
      "1     1           1    1.0   90.0   6.1 -1.65\n",
      "2     2           1    2.0   90.0   8.1 -1.65\n",
      "3     3           1    3.0   90.0  11.1 -1.65\n",
      "4     4           1    4.0   90.0  15.1 -1.65\n",
=======
      "0   1.0           1    0.0   90.0   5.1 -1.65\n",
      "1   2.0           1    1.0   90.0   6.1 -1.65\n",
      "2   3.0           1    2.0   90.0   8.1 -1.65\n",
      "3   4.0           1    3.0   90.0  11.1 -1.65\n",
      "4   5.0           1    4.0   90.0  15.1 -1.65\n",
>>>>>>> 985b80598b4f3444f96f27c9ec93edd1c4d33b12
      "Average Speed: 9.69 m/s\n",
      "vehicle_id\n",
      "1    90.0\n",
      "Name: angle, dtype: float64\n"
     ]
    }
   ],
   "source": [
<<<<<<< HEAD
    "extract_location_direction_speed(xml_file_path, save_path)"
   ]
=======
    "import sys\n",
    "import os\n",
    "\n",
    "sys.path.append('../src/scripts')\n",
    "from sumo_extraction import extract_location_direction_speed\n",
    "xml_file_path = '../src/sumo/hello_fcd.xml'\n",
    "save_path = '../src/sumo/sumo.csv'\n",
    "extract_location_direction_speed(xml_file_path, save_path)\n",
    "\n",
    "\n"
   ]
  },
  {
   "cell_type": "code",
   "execution_count": null,
   "metadata": {},
   "outputs": [],
   "source": []
  },
  {
   "cell_type": "code",
   "execution_count": null,
   "metadata": {},
   "outputs": [],
   "source": []
>>>>>>> 985b80598b4f3444f96f27c9ec93edd1c4d33b12
  }
 ],
 "metadata": {
  "kernelspec": {
   "display_name": "Python 3 (ipykernel)",
   "language": "python",
   "name": "python3"
  },
  "language_info": {
   "codemirror_mode": {
    "name": "ipython",
    "version": 3
   },
   "file_extension": ".py",
   "mimetype": "text/x-python",
   "name": "python",
   "nbconvert_exporter": "python",
   "pygments_lexer": "ipython3",
   "version": "3.12.2"
  }
 },
 "nbformat": 4,
 "nbformat_minor": 2
}
